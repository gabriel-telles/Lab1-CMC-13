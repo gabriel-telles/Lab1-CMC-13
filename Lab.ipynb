{
 "cells": [
  {
   "cell_type": "markdown",
   "metadata": {},
   "source": [
    "Carregando Bibliotecas"
   ]
  },
  {
   "cell_type": "code",
   "execution_count": 15,
   "metadata": {},
   "outputs": [],
   "source": [
    "# importando módulos\n",
    "import pandas as pd\n",
    "import numpy as np\n",
    "from datetime import date"
   ]
  },
  {
   "cell_type": "markdown",
   "metadata": {},
   "source": [
    "Definindo os Dataframes"
   ]
  },
  {
   "cell_type": "code",
   "execution_count": 16,
   "metadata": {},
   "outputs": [],
   "source": [
    "# gerando os dataframes users, movies, ratings\n",
    "users = pd.read_csv('users.csv', sep=',')\n",
    "movies = pd.read_csv('movies.csv', sep=';')\n",
    "ratings = pd.read_csv('ratings.csv', sep=';')\n"
   ]
  },
  {
   "cell_type": "markdown",
   "metadata": {},
   "source": [
    "Tratando o dataframe: users"
   ]
  },
  {
   "cell_type": "code",
   "execution_count": 17,
   "metadata": {},
   "outputs": [
    {
     "name": "stdout",
     "output_type": "stream",
     "text": [
      "      UserID Gender  Occupation    birthday\n",
      "0          1      F          10    4/1/2012\n",
      "1          2      M          16   9/21/1964\n",
      "2          3      M          15    4/3/1995\n",
      "3          4      M           7    5/8/1974\n",
      "4          5      M          20   6/18/1996\n",
      "...      ...    ...         ...         ...\n",
      "6035    6036      F          15  10/17/1995\n",
      "6036    6037      F           1   6/12/1975\n",
      "6037    6038      F           1   1/17/1963\n",
      "6038    6039      F           0   10/6/1977\n",
      "6039    6040      M           6    4/8/1988\n",
      "\n",
      "[6040 rows x 4 columns]\n"
     ]
    }
   ],
   "source": [
    "# deletando colunas inúteis para a análise\n",
    "users = users.drop([\"name\", \"Zip-code\"], axis=1, errors='ignore')\n",
    "\n",
    "# printando o dataframe users\n",
    "print(users)\n"
   ]
  },
  {
   "cell_type": "markdown",
   "metadata": {},
   "source": [
    "Extraindo o ano das datas de nascimento para facilitar a obtenção da idade\n"
   ]
  },
  {
   "cell_type": "code",
   "execution_count": 18,
   "metadata": {},
   "outputs": [
    {
     "name": "stdout",
     "output_type": "stream",
     "text": [
      "      UserID Gender  Occupation birthday\n",
      "0          1      F          10     2012\n",
      "1          2      M          16     1964\n",
      "2          3      M          15     1995\n",
      "3          4      M           7     1974\n",
      "4          5      M          20     1996\n",
      "...      ...    ...         ...      ...\n",
      "6035    6036      F          15     1995\n",
      "6036    6037      F           1     1975\n",
      "6037    6038      F           1     1963\n",
      "6038    6039      F           0     1977\n",
      "6039    6040      M           6     1988\n",
      "\n",
      "[6040 rows x 4 columns]\n"
     ]
    }
   ],
   "source": [
    "def splitIntoNumbers(string):\n",
    "    # a 3° posição dos string gerado retornará o ano de nascimento\n",
    "    return string.split('/')[2] \n",
    "\n",
    "# veja que não importa muito uma diferença de 1 ano nas datas de nascimento, que seria ocasionada pelo fato de a pessoa fazer aniversário antes ou depois de hoje. Pulamos essa parte porque não adicionaria muito à análise e apenas dificultaria o código.\n",
    "users['birthday'] = users['birthday'].apply(splitIntoNumbers)\n",
    "\n",
    "print(users)"
   ]
  },
  {
   "cell_type": "markdown",
   "metadata": {},
   "source": [
    "Calculando a idade de cada usuário baseado na data de nascimento"
   ]
  },
  {
   "cell_type": "code",
   "execution_count": 19,
   "metadata": {},
   "outputs": [],
   "source": [
    "def calculateAge(born):\n",
    "    today = date.today()\n",
    "    return today.year - int(born)\n",
    "\n",
    "users['age'] = users['birthday'].apply(calculateAge)\n",
    "\n",
    "users = users.drop('birthday', axis = 1, errors='ignore')"
   ]
  },
  {
   "cell_type": "markdown",
   "metadata": {},
   "source": [
    "Imprimindo o dataframe users tratado:"
   ]
  },
  {
   "cell_type": "code",
   "execution_count": 20,
   "metadata": {},
   "outputs": [
    {
     "name": "stdout",
     "output_type": "stream",
     "text": [
      "      UserID Gender  Occupation  age\n",
      "0          1      F          10   10\n",
      "1          2      M          16   58\n",
      "2          3      M          15   27\n",
      "3          4      M           7   48\n",
      "4          5      M          20   26\n",
      "...      ...    ...         ...  ...\n",
      "6035    6036      F          15   27\n",
      "6036    6037      F           1   47\n",
      "6037    6038      F           1   59\n",
      "6038    6039      F           0   45\n",
      "6039    6040      M           6   34\n",
      "\n",
      "[6040 rows x 4 columns]\n"
     ]
    }
   ],
   "source": [
    "print(users)"
   ]
  },
  {
   "cell_type": "markdown",
   "metadata": {},
   "source": [
    "Trocando as idades para 'categorias', segundo como descrito no pdf"
   ]
  },
  {
   "cell_type": "code",
   "execution_count": 21,
   "metadata": {},
   "outputs": [],
   "source": [
    "def classifyAges(age):\n",
    "    if(age<18): age = 1\n",
    "    elif (age<25): age = 18\n",
    "    elif (age<35): age = 25\n",
    "    elif (age<45): age = 35\n",
    "    elif (age<50): age = 45\n",
    "    elif (age<56): age = 50\n",
    "    else: age = 56\n",
    "\n",
    "    return age\n",
    "\n",
    "users['age'] = users['age'].apply(classifyAges)"
   ]
  },
  {
   "cell_type": "code",
   "execution_count": 22,
   "metadata": {},
   "outputs": [
    {
     "name": "stdout",
     "output_type": "stream",
     "text": [
      "      UserID Gender  Occupation  age\n",
      "0          1      F          10    1\n",
      "1          2      M          16   56\n",
      "2          3      M          15   25\n",
      "3          4      M           7   45\n",
      "4          5      M          20   25\n",
      "...      ...    ...         ...  ...\n",
      "6035    6036      F          15   25\n",
      "6036    6037      F           1   45\n",
      "6037    6038      F           1   56\n",
      "6038    6039      F           0   45\n",
      "6039    6040      M           6   25\n",
      "\n",
      "[6040 rows x 4 columns]\n"
     ]
    }
   ],
   "source": [
    "print(users)"
   ]
  },
  {
   "cell_type": "markdown",
   "metadata": {},
   "source": [
    "Tratando o dataframe: movies"
   ]
  },
  {
   "cell_type": "code",
   "execution_count": 23,
   "metadata": {},
   "outputs": [
    {
     "name": "stdout",
     "output_type": "stream",
     "text": [
      "      MovieID                               Title  \\\n",
      "0           1                    Toy Story (1995)   \n",
      "1           2                      Jumanji (1995)   \n",
      "2           3             Grumpier Old Men (1995)   \n",
      "3           4            Waiting to Exhale (1995)   \n",
      "4           5  Father of the Bride Part II (1995)   \n",
      "...       ...                                 ...   \n",
      "3878     3948             Meet the Parents (2000)   \n",
      "3879     3949          Requiem for a Dream (2000)   \n",
      "3880     3950                    Tigerland (2000)   \n",
      "3881     3951             Two Family House (2000)   \n",
      "3882     3952               Contender, The (2000)   \n",
      "\n",
      "                            Genres Unnamed: 3  \n",
      "0      Animation|Children's|Comedy        NaN  \n",
      "1     Adventure|Children's|Fantasy        NaN  \n",
      "2                   Comedy|Romance        NaN  \n",
      "3                     Comedy|Drama        NaN  \n",
      "4                           Comedy        NaN  \n",
      "...                            ...        ...  \n",
      "3878                        Comedy        NaN  \n",
      "3879                         Drama        NaN  \n",
      "3880                         Drama        NaN  \n",
      "3881                         Drama        NaN  \n",
      "3882                Drama|Thriller        NaN  \n",
      "\n",
      "[3883 rows x 4 columns]\n"
     ]
    }
   ],
   "source": [
    "# printando o dataframe movies\n",
    "print(movies)"
   ]
  },
  {
   "cell_type": "markdown",
   "metadata": {},
   "source": [
    "Excluindo a coluna 'Unnamed: 3'"
   ]
  },
  {
   "cell_type": "code",
   "execution_count": 24,
   "metadata": {},
   "outputs": [
    {
     "name": "stdout",
     "output_type": "stream",
     "text": [
      "      MovieID                               Title  \\\n",
      "0           1                    Toy Story (1995)   \n",
      "1           2                      Jumanji (1995)   \n",
      "2           3             Grumpier Old Men (1995)   \n",
      "3           4            Waiting to Exhale (1995)   \n",
      "4           5  Father of the Bride Part II (1995)   \n",
      "...       ...                                 ...   \n",
      "3878     3948             Meet the Parents (2000)   \n",
      "3879     3949          Requiem for a Dream (2000)   \n",
      "3880     3950                    Tigerland (2000)   \n",
      "3881     3951             Two Family House (2000)   \n",
      "3882     3952               Contender, The (2000)   \n",
      "\n",
      "                            Genres  \n",
      "0      Animation|Children's|Comedy  \n",
      "1     Adventure|Children's|Fantasy  \n",
      "2                   Comedy|Romance  \n",
      "3                     Comedy|Drama  \n",
      "4                           Comedy  \n",
      "...                            ...  \n",
      "3878                        Comedy  \n",
      "3879                         Drama  \n",
      "3880                         Drama  \n",
      "3881                         Drama  \n",
      "3882                Drama|Thriller  \n",
      "\n",
      "[3883 rows x 3 columns]\n"
     ]
    }
   ],
   "source": [
    "# essa coluna foi gerada porque havia um ';' a mais no arquivo csv, que fazia o programa associar a uma coluna nova\n",
    "movies = movies.drop('Unnamed: 3', axis = 1, errors = 'ignore')\n",
    "\n",
    "print(movies)"
   ]
  },
  {
   "cell_type": "markdown",
   "metadata": {},
   "source": [
    "Separando title e year:"
   ]
  },
  {
   "cell_type": "code",
   "execution_count": 25,
   "metadata": {},
   "outputs": [
    {
     "name": "stdout",
     "output_type": "stream",
     "text": [
      "      MovieID                        Genres                         title  \\\n",
      "0           1   Animation|Children's|Comedy                    Toy Story    \n",
      "1           2  Adventure|Children's|Fantasy                      Jumanji    \n",
      "2           3                Comedy|Romance             Grumpier Old Men    \n",
      "3           4                  Comedy|Drama            Waiting to Exhale    \n",
      "4           5                        Comedy  Father of the Bride Part II    \n",
      "...       ...                           ...                           ...   \n",
      "3878     3948                        Comedy             Meet the Parents    \n",
      "3879     3949                         Drama          Requiem for a Dream    \n",
      "3880     3950                         Drama                    Tigerland    \n",
      "3881     3951                         Drama             Two Family House    \n",
      "3882     3952                Drama|Thriller               Contender, The    \n",
      "\n",
      "      year  \n",
      "0     1995  \n",
      "1     1995  \n",
      "2     1995  \n",
      "3     1995  \n",
      "4     1995  \n",
      "...    ...  \n",
      "3878  2000  \n",
      "3879  2000  \n",
      "3880  2000  \n",
      "3881  2000  \n",
      "3882  2000  \n",
      "\n",
      "[3883 rows x 4 columns]\n"
     ]
    },
    {
     "name": "stderr",
     "output_type": "stream",
     "text": [
      "C:\\Users\\rafol\\AppData\\Local\\Temp/ipykernel_34048/1131995411.py:6: FutureWarning: The default value of regex will change from True to False in a future version. In addition, single character regular expressions will *not* be treated as literal strings when regex=True.\n",
      "  movies['year'] = movies['year'].str.replace(')','')\n"
     ]
    }
   ],
   "source": [
    "movies[['title', 'year', 'ph1', 'ph2']] = movies['Title'].str.split('(', expand=True)\n",
    "\n",
    "movies = movies.drop(['Title', 'ph1', 'ph2'], axis = 1, errors='ignore')\n",
    "\n",
    "# remove o caractere ')' que sobra\n",
    "movies['year'] = movies['year'].str.replace(')','')\n",
    "\n",
    "print(movies)"
   ]
  },
  {
   "cell_type": "markdown",
   "metadata": {},
   "source": [
    "Separando os gêneros:"
   ]
  },
  {
   "cell_type": "code",
   "execution_count": 26,
   "metadata": {},
   "outputs": [
    {
     "name": "stdout",
     "output_type": "stream",
     "text": [
      "      MovieID                         title  year    Genre 1     Genre 2  \\\n",
      "0           1                    Toy Story   1995  Animation  Children's   \n",
      "1           2                      Jumanji   1995  Adventure  Children's   \n",
      "2           3             Grumpier Old Men   1995     Comedy     Romance   \n",
      "3           4            Waiting to Exhale   1995     Comedy       Drama   \n",
      "4           5  Father of the Bride Part II   1995     Comedy        None   \n",
      "...       ...                           ...   ...        ...         ...   \n",
      "3878     3948             Meet the Parents   2000     Comedy        None   \n",
      "3879     3949          Requiem for a Dream   2000      Drama        None   \n",
      "3880     3950                    Tigerland   2000      Drama        None   \n",
      "3881     3951             Two Family House   2000      Drama        None   \n",
      "3882     3952               Contender, The   2000      Drama    Thriller   \n",
      "\n",
      "      Genre 3  \n",
      "0      Comedy  \n",
      "1     Fantasy  \n",
      "2        None  \n",
      "3        None  \n",
      "4        None  \n",
      "...       ...  \n",
      "3878     None  \n",
      "3879     None  \n",
      "3880     None  \n",
      "3881     None  \n",
      "3882     None  \n",
      "\n",
      "[3883 rows x 6 columns]\n"
     ]
    }
   ],
   "source": [
    "# PH1, PH2 e PH3 são Placeholders para \n",
    "movies[['Genre 1','Genre 2','Genre 3','PH1','PH2','PH3']] = movies['Genres'].str.split('|', expand=True)\n",
    "\n",
    "movies = movies.drop(['Genres','PH1','PH2','PH3'],axis=1, errors='ignore')\n",
    "\n",
    "print(movies)\n"
   ]
  },
  {
   "cell_type": "markdown",
   "metadata": {},
   "source": [
    "Tratando o dataframe: ratings"
   ]
  },
  {
   "cell_type": "code",
   "execution_count": 27,
   "metadata": {},
   "outputs": [
    {
     "name": "stdout",
     "output_type": "stream",
     "text": [
      "         UserID  MovieID  Rating  Timestamp\n",
      "0             1     1193       5  978300760\n",
      "1             1      661       3  978302109\n",
      "2             1      914       3  978301968\n",
      "3             1     3408       4  978300275\n",
      "4             1     2355       5  978824291\n",
      "...         ...      ...     ...        ...\n",
      "1000204    6040     1091       1  956716541\n",
      "1000205    6040     1094       5  956704887\n",
      "1000206    6040      562       5  956704746\n",
      "1000207    6040     1096       4  956715648\n",
      "1000208    6040     1097       4  956715569\n",
      "\n",
      "[1000209 rows x 4 columns]\n"
     ]
    }
   ],
   "source": [
    "# printando o dataframe ratings\n",
    "print(ratings)"
   ]
  },
  {
   "cell_type": "markdown",
   "metadata": {},
   "source": [
    "Retirando o dado Timestamp, que não é útil para nossa análise"
   ]
  },
  {
   "cell_type": "code",
   "execution_count": 29,
   "metadata": {},
   "outputs": [
    {
     "name": "stdout",
     "output_type": "stream",
     "text": [
      "         UserID  MovieID  Rating\n",
      "0             1     1193       5\n",
      "1             1      661       3\n",
      "2             1      914       3\n",
      "3             1     3408       4\n",
      "4             1     2355       5\n",
      "...         ...      ...     ...\n",
      "1000204    6040     1091       1\n",
      "1000205    6040     1094       5\n",
      "1000206    6040      562       5\n",
      "1000207    6040     1096       4\n",
      "1000208    6040     1097       4\n",
      "\n",
      "[1000209 rows x 3 columns]\n"
     ]
    }
   ],
   "source": [
    "ratings = ratings.drop('Timestamp', axis=1, errors='ignore')\n",
    "\n",
    "print(ratings)"
   ]
  }
 ],
 "metadata": {
  "interpreter": {
   "hash": "2be5faf79681da6f2a61fdfdd5405d65d042280f7fba6178067603e3a2925119"
  },
  "kernelspec": {
   "display_name": "Python 3.10.1 64-bit",
   "language": "python",
   "name": "python3"
  },
  "language_info": {
   "codemirror_mode": {
    "name": "ipython",
    "version": 3
   },
   "file_extension": ".py",
   "mimetype": "text/x-python",
   "name": "python",
   "nbconvert_exporter": "python",
   "pygments_lexer": "ipython3",
   "version": "3.9.7"
  },
  "orig_nbformat": 4
 },
 "nbformat": 4,
 "nbformat_minor": 2
}
